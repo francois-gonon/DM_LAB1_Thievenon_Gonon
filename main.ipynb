{
 "cells": [
  {
   "cell_type": "markdown",
   "metadata": {},
   "source": [
    "# Flight Reservation System - Transaction Processing Lab"
   ]
  },
  {
   "cell_type": "code",
   "execution_count": 26,
   "metadata": {},
   "outputs": [],
   "source": [
    "# Import required libraries\n",
    "import mariadb\n",
    "import threading\n",
    "import random\n",
    "import time\n",
    "from IPython.display import display, Markdown\n",
    "\n",
    "# Exception used to stop Notebook cell execution politely\n",
    "class StopExecution(Exception):\n",
    "    def __render_traceback__(self):\n",
    "        pass"
   ]
  },
  {
   "cell_type": "markdown",
   "metadata": {},
   "source": [
    "## Exercise 4: Database Connection Setup"
   ]
  },
  {
   "cell_type": "code",
   "execution_count": 27,
   "metadata": {},
   "outputs": [
    {
     "data": {
      "text/markdown": [
       "### ✅ Successfully connected to database"
      ],
      "text/plain": [
       "<IPython.core.display.Markdown object>"
      ]
     },
     "metadata": {},
     "output_type": "display_data"
    }
   ],
   "source": [
    "def connectToDB(db_name):\n",
    "    \"\"\"\n",
    "    Connect to MariaDB database and return connection object\n",
    "    \n",
    "    Args:\n",
    "        db_name (str): Name of database to connect to\n",
    "        \n",
    "    Returns:\n",
    "        mariadb.Connection: Database connection object\n",
    "        \n",
    "    Raises:\n",
    "        StopExecution: If connection fails\n",
    "    \"\"\"\n",
    "    try:\n",
    "        conn = mariadb.connect(\n",
    "            user=\"root\",\n",
    "            password=\"password\",  # Password set in docker run command\n",
    "            host=\"localhost\",   # Using localhost due to docker port forwarding\n",
    "            port=3306,\n",
    "            database=db_name\n",
    "        )\n",
    "        return conn\n",
    "    except mariadb.Error as e:\n",
    "        print(f\"Error connecting to MariaDB Platform: {e}\")\n",
    "        raise StopExecution\n",
    "\n",
    "# Test connection\n",
    "try:\n",
    "    conn = connectToDB(\"flight_reservation\")\n",
    "    display(Markdown(\"### ✅ Successfully connected to database\"))\n",
    "except:\n",
    "    display(Markdown(\"### ❌ Failed to connect to database\"))"
   ]
  },
  {
   "cell_type": "markdown",
   "metadata": {},
   "source": [
    "## Database Schema Inspection"
   ]
  },
  {
   "cell_type": "code",
   "execution_count": 28,
   "metadata": {},
   "outputs": [
    {
     "data": {
      "text/markdown": [
       "### Database Schema"
      ],
      "text/plain": [
       "<IPython.core.display.Markdown object>"
      ]
     },
     "metadata": {},
     "output_type": "display_data"
    },
    {
     "name": "stdout",
     "output_type": "stream",
     "text": [
      "** Booking **\n",
      "Field           \tType      \tNull\tKey\tDefault\tExtra\n",
      "id_booking      \tint(11)   \tNO\tPRI\tNone\tauto_increment\n",
      "client_name     \tvarchar(50)\tNO\t\tNone\t\n",
      "quantity        \tint(2)    \tNO\t\tNone\t\n",
      "id_flight       \tvarchar(20)\tNO\tMUL\tNone\t\n",
      "\n",
      "\n",
      "** Flight **\n",
      "Field           \tType      \tNull\tKey\tDefault\tExtra\n",
      "id_flight       \tvarchar(20)\tNO\tPRI\tNone\t\n",
      "maximum_capacity\tint(3)    \tNO\t\tNone\t\n",
      "current_capacity\tint(3)    \tNO\t\t0\t\n",
      "\n",
      "\n"
     ]
    }
   ],
   "source": [
    "def showTablesAndColumns(conn):\n",
    "    \"\"\"\n",
    "    Display all tables and their columns in the database\n",
    "    \n",
    "    Args:\n",
    "        conn (mariadb.Connection): Active database connection\n",
    "    \"\"\"\n",
    "    cur = conn.cursor()\n",
    "    \n",
    "    # Query the tables\n",
    "    cur.execute(\"SHOW TABLES;\")\n",
    "    \n",
    "    # For each table\n",
    "    for table in cur.fetchall():\n",
    "        print(f\"** {table[0]} **\")\n",
    "        \n",
    "        # Column display format\n",
    "        outputFormat = \"{:16}\\t{:10}\\t{}\\t{}\\t{}\\t{}\"\n",
    "        \n",
    "        # Print headers\n",
    "        print(outputFormat.format(\"Field\", \"Type\", \"Null\", \"Key\", \"Default\", \"Extra\"))\n",
    "        \n",
    "        # Query the columns\n",
    "        cur.execute(f'SHOW COLUMNS FROM {table[0]};')\n",
    "        \n",
    "        # Print each column's attributes\n",
    "        for attribute in cur.fetchall():\n",
    "            print(outputFormat.format(*attribute[:6]))\n",
    "        print(\"\\n\")\n",
    "\n",
    "# Display schema\n",
    "display(Markdown(\"### Database Schema\"))\n",
    "showTablesAndColumns(conn)"
   ]
  },
  {
   "cell_type": "markdown",
   "metadata": {},
   "source": [
    "## Exercise 5: Flight and Booking Management"
   ]
  },
  {
   "cell_type": "markdown",
   "metadata": {},
   "source": [
    "### 5.1: Add Flight Function"
   ]
  },
  {
   "cell_type": "code",
   "execution_count": 29,
   "metadata": {},
   "outputs": [],
   "source": [
    "def addFlight(id_flight, maximum_capacity):\n",
    "    \"\"\"\n",
    "    Add a new flight to the Flight table\n",
    "    \n",
    "    Args:\n",
    "        id_flight (str): Flight ID (max 20 chars)\n",
    "        maximum_capacity (int): Maximum seats (<= 999)\n",
    "        \n",
    "    Returns:\n",
    "        bool: True if successful, False otherwise\n",
    "    \"\"\"\n",
    "    try:\n",
    "        conn = connectToDB(\"flight_reservation\")\n",
    "        cur = conn.cursor()\n",
    "        \n",
    "        # Validate capacity constraint\n",
    "        if maximum_capacity > 999:\n",
    "            print(\"Error: Maximum capacity cannot exceed 999\")\n",
    "            return False\n",
    "            \n",
    "        # Insert new flight with current_capacity = 0\n",
    "        cur.execute(\n",
    "            \"INSERT INTO Flight (id_flight, maximum_capacity, current_capacity) VALUES (?, ?, 0)\",\n",
    "            (id_flight, maximum_capacity)\n",
    "        )\n",
    "        conn.commit()\n",
    "        return True\n",
    "        \n",
    "    except mariadb.Error as e:\n",
    "        print(f\"Error adding flight: {e}\")\n",
    "        conn.rollback()\n",
    "        return False\n",
    "    finally:\n",
    "        conn.close()\n",
    "\n",
    "\n"
   ]
  },
  {
   "cell_type": "code",
   "execution_count": 40,
   "metadata": {},
   "outputs": [
    {
     "data": {
      "text/markdown": [
       "### Testing addFlight()"
      ],
      "text/plain": [
       "<IPython.core.display.Markdown object>"
      ]
     },
     "metadata": {},
     "output_type": "display_data"
    },
    {
     "data": {
      "text/plain": [
       "True"
      ]
     },
     "execution_count": 40,
     "metadata": {},
     "output_type": "execute_result"
    }
   ],
   "source": [
    "# Test addFlight\n",
    "display(Markdown(\"### Testing addFlight()\"))\n",
    "addFlight(\"LH6795\", 10)"
   ]
  },
  {
   "cell_type": "markdown",
   "metadata": {},
   "source": [
    "### 5.2: Add Booking Function"
   ]
  },
  {
   "cell_type": "code",
   "execution_count": 66,
   "metadata": {},
   "outputs": [],
   "source": [
    "# Global tracking of processed bookings to prevent duplicates\n",
    "processed_bookings = set()\n",
    "\n",
    "def addBooking(id_flight, client_name, quantity):\n",
    "    \"\"\"\n",
    "    Attempt to add a booking with transaction processing and optimistic locking.\n",
    "    Uses global tracking to prevent duplicate processing.\n",
    "    \n",
    "    Args:\n",
    "        id_flight (str): Flight ID to book.\n",
    "        client_name (str): Client name (max 50 chars).\n",
    "        quantity (int): Number of seats to book (<= 99).\n",
    "        \n",
    "    Returns:\n",
    "        tuple: (retry: bool, status: str)\n",
    "               retry - True if should retry later.\n",
    "               status - \"Invalid\", \"Full\", \"Reserved\", \"Error\".\n",
    "    \"\"\"\n",
    "    # Check if this booking has already been processed (memory-based check)\n",
    "    booking_key = (id_flight, client_name)\n",
    "    if booking_key in processed_bookings:\n",
    "        print(f\"Booking for {client_name} on {id_flight} already processed. Skipping.\")\n",
    "        return (False, \"Reserved\")\n",
    "        \n",
    "    conn = None\n",
    "    try:\n",
    "        conn = connectToDB(\"flight_reservation\")\n",
    "        cur = conn.cursor()\n",
    "        \n",
    "        # Set isolation level to SERIALIZABLE\n",
    "        cur.execute(\"SET TRANSACTION ISOLATION LEVEL SERIALIZABLE\")\n",
    "        \n",
    "        # Database-based duplicate check\n",
    "        cur.execute(\n",
    "            \"SELECT 1 FROM Booking WHERE client_name=? AND id_flight=?;\",\n",
    "            (client_name, id_flight)\n",
    "        )\n",
    "        if cur.fetchone():\n",
    "            processed_bookings.add(booking_key)  # Add to processed set\n",
    "            return (False, \"Reserved\")  # Already exists in database\n",
    "        \n",
    "        # Get current flight state with FOR UPDATE to lock the row\n",
    "        cur.execute(\n",
    "            \"SELECT maximum_capacity, current_capacity FROM Flight WHERE id_flight=? FOR UPDATE;\",\n",
    "            (id_flight,)\n",
    "        )\n",
    "        result = cur.fetchone()\n",
    "        \n",
    "        if not result:\n",
    "            return (False, \"Invalid\")\n",
    "        \n",
    "        max_cap, curr_cap = result\n",
    "        \n",
    "        # Check available capacity\n",
    "        if (curr_cap + quantity) > max_cap:\n",
    "            return (False, \"Full\")\n",
    "        \n",
    "        # Insert booking first\n",
    "        cur.execute(\n",
    "            \"INSERT INTO Booking (client_name, quantity, id_flight) VALUES (?, ?, ?);\",\n",
    "            (client_name, quantity, id_flight)\n",
    "        )\n",
    "        \n",
    "        # Then update flight capacity\n",
    "        cur.execute(\n",
    "            \"UPDATE Flight SET current_capacity = ? WHERE id_flight=?;\",\n",
    "            (curr_cap + quantity, id_flight)  # Use explicit value instead of increment\n",
    "        )\n",
    "        \n",
    "        conn.commit()\n",
    "        processed_bookings.add(booking_key)  # Add to processed set after successful commit\n",
    "        return (False, \"Reserved\")\n",
    "        \n",
    "    except mariadb.Error as e:\n",
    "        print(f\"Booking error: {e}\")\n",
    "        if conn:\n",
    "            conn.rollback()\n",
    "        # Only retry on deadlock or lock timeout errors\n",
    "        if \"1213\" in str(e) or \"1205\" in str(e):\n",
    "            return (True, \"Error\")\n",
    "        return (False, \"Error\")\n",
    "    finally:\n",
    "        if conn:\n",
    "            conn.close()"
   ]
  },
  {
   "cell_type": "code",
   "execution_count": null,
   "metadata": {},
   "outputs": [],
   "source": [
    "# Test sequential bookings\n",
    "display(Markdown(\"### Testing sequential bookings\"))\n",
    "print(addBooking(\"LH6795\", \"Client 0\", 1))\n",
    "print(addBooking(\"LH6795\", \"Client 1\", 4))\n",
    "print(addBooking(\"LH6795\", \"Client 2\", 3)) \n",
    "print(addBooking(\"LH6795\", \"Client 3\", 3))  # Should fail (Full)"
   ]
  },
  {
   "cell_type": "markdown",
   "metadata": {},
   "source": [
    "## Exercise 6: Multi-threading and Isolation Levels"
   ]
  },
  {
   "cell_type": "markdown",
   "metadata": {},
   "source": [
    "### Database Cleanup Function"
   ]
  },
  {
   "cell_type": "code",
   "execution_count": 75,
   "metadata": {},
   "outputs": [
    {
     "data": {
      "text/markdown": [
       "### Cleaning database for multi-threading tests"
      ],
      "text/plain": [
       "<IPython.core.display.Markdown object>"
      ]
     },
     "metadata": {},
     "output_type": "display_data"
    }
   ],
   "source": [
    "def cleanDB(id_flight):\n",
    "    \"\"\"\n",
    "    Reset database state for a flight\n",
    "    \n",
    "    Args:\n",
    "        id_flight (str): Flight ID to clean\n",
    "    \"\"\"\n",
    "    global processed_bookings  # Clear the global tracking set too\n",
    "    processed_bookings = set()\n",
    "    \n",
    "    conn = connectToDB(\"flight_reservation\")\n",
    "    cur = conn.cursor()\n",
    "    cur.execute(\"DELETE FROM Booking WHERE id_flight=?;\", (id_flight,))\n",
    "    cur.execute(\"UPDATE Flight SET current_capacity=0 WHERE id_flight=?;\", (id_flight,))\n",
    "    conn.commit()\n",
    "    conn.close()\n",
    "\n",
    "# Test cleanup\n",
    "display(Markdown(\"### Cleaning database for multi-threading tests\"))\n",
    "cleanDB(\"LH6795\")\n"
   ]
  },
  {
   "cell_type": "markdown",
   "metadata": {},
   "source": [
    "### Thread Processing Function"
   ]
  },
  {
   "cell_type": "code",
   "execution_count": 69,
   "metadata": {},
   "outputs": [],
   "source": [
    "def processBooking(id_flight, client_name, quantity):\n",
    "    \"\"\"\n",
    "    Wrapper for addBooking to use in threads.\n",
    "    Ensures each client is processed only once.\n",
    "    \n",
    "    Args:\n",
    "        id_flight (str): Flight ID.\n",
    "        client_name (str): Client name.\n",
    "        quantity (int): Number of seats to book.\n",
    "    \"\"\"\n",
    "    print(f\"Processing Flight {id_flight} for {client_name}: {quantity} seats.\")\n",
    "    retry, status = addBooking(id_flight, client_name, quantity)\n",
    "    print(f\"{client_name}: {status} Should retry: {retry}\")\n",
    "    \n",
    "    # Retry logic if needed.\n",
    "    while retry:\n",
    "        print(f\"Retry Flight {id_flight} for {client_name}: {quantity} seats.\")\n",
    "        retry, status = addBooking(id_flight, client_name, quantity)\n",
    "        print(f\"{client_name}: {status}\")\n",
    "        if not retry:\n",
    "            break\n",
    "    \n",
    "    if status == \"Reserved\":\n",
    "        print(f\"{client_name}: Booking successful.\")\n",
    "    elif status == \"Full\":\n",
    "        print(f\"{client_name}: Booking failed - Flight is full.\")\n",
    "    elif status == \"Invalid\":\n",
    "        print(f\"{client_name}: Booking failed - Invalid flight ID.\")\n",
    "    else:\n",
    "        print(f\"{client_name}: Booking failed - Unknown error.\")"
   ]
  },
  {
   "cell_type": "markdown",
   "metadata": {},
   "source": [
    "### 6.1-6.3: Basic Multi-threading Test"
   ]
  },
  {
   "cell_type": "code",
   "execution_count": 72,
   "metadata": {},
   "outputs": [
    {
     "data": {
      "text/markdown": [
       "### Running multi-threaded bookings with delay"
      ],
      "text/plain": [
       "<IPython.core.display.Markdown object>"
      ]
     },
     "metadata": {},
     "output_type": "display_data"
    },
    {
     "name": "stdout",
     "output_type": "stream",
     "text": [
      "Processing Flight LH6795 for Client 0: 2 seats.\n",
      "Client 0: Reserved Should retry: False\n",
      "Client 0: Booking successful.\n",
      "Processing Flight LH6795 for Client 1: 1 seats.\n",
      "Client 1: Reserved Should retry: False\n",
      "Client 1: Booking successful.\n",
      "Processing Flight LH6795 for Client 1: 1 seats.\n",
      "Client 1: Reserved Should retry: False\n",
      "Client 1: Booking successful.\n",
      "Processing Flight LH6795 for Client 2: 1 seats.\n",
      "Client 2: Reserved Should retry: False\n",
      "Client 2: Booking successful.\n",
      "Processing Flight LH6795 for Client 2: 1 seats.\n",
      "Client 2: Reserved Should retry: False\n",
      "Client 2: Booking successful.\n",
      "Processing Flight LH6795 for Client 3: 4 seats.\n",
      "Client 3: Reserved Should retry: False\n",
      "Client 3: Booking successful.\n",
      "Processing Flight LH6795 for Client 3: 4 seats.\n",
      "Client 3: Reserved Should retry: False\n",
      "Client 3: Booking successful.\n",
      "Processing Flight LH6795 for Client 4: 2 seats.\n",
      "Client 4: Reserved Should retry: False\n",
      "Client 4: Booking successful.\n",
      "Processing Flight LH6795 for Client 4: 2 seats.\n",
      "Client 4: Reserved Should retry: False\n",
      "Client 4: Booking successful.\n",
      "Finished\n",
      "Current capacity in DB: 10\n",
      "Total seats booked: 10\n",
      "These should match: ✅ Match\n",
      "Finished\n",
      "Current capacity in DB: 10\n",
      "Total seats booked: 10\n",
      "These should match: ✅ Match\n"
     ]
    }
   ],
   "source": [
    "# Test parameters\n",
    "id_flight = \"LH6795\"\n",
    "base_name = \"Client \"\n",
    "\n",
    "# Clean database and reset tracking\n",
    "cleanDB(id_flight)\n",
    "\n",
    "# Create and start threads\n",
    "jobs = []\n",
    "for i in range(5):\n",
    "    client_name = base_name + str(i)\n",
    "    quantity = random.randint(1, 4)\n",
    "    jobs.append(threading.Thread(\n",
    "        target=processBooking,\n",
    "        args=(id_flight, client_name, quantity)\n",
    "    ))\n",
    "\n",
    "# Start threads with delay\n",
    "display(Markdown(\"### Running multi-threaded bookings with delay\"))\n",
    "for job in jobs:\n",
    "    job.start()\n",
    "    time.sleep(3)  # Delay between thread starts\n",
    "\n",
    "# Wait for completion\n",
    "for job in jobs:\n",
    "    job.join()\n",
    "\n",
    "# Print finished only once\n",
    "print(\"Finished\")\n",
    "\n",
    "# Check final state\n",
    "conn = connectToDB(\"flight_reservation\")\n",
    "cur = conn.cursor()\n",
    "cur.execute(\"SELECT current_capacity FROM Flight WHERE id_flight=?;\", (id_flight,))\n",
    "current_capacity = cur.fetchone()[0]\n",
    "cur.execute(\"SELECT SUM(quantity) FROM Booking WHERE id_flight=?;\", (id_flight,))\n",
    "total_booked = cur.fetchone()[0] or 0\n",
    "conn.close()\n",
    "\n",
    "print(f\"Current capacity in DB: {current_capacity}\")\n",
    "print(f\"Total seats booked: {total_booked}\")\n",
    "print(f\"These should match: {'✅ Match' if current_capacity == total_booked else '❌ Mismatch'}\")  "
   ]
  },
  {
   "cell_type": "markdown",
   "metadata": {},
   "source": [
    "### 6.4: SERIALIZABLE Isolation Level"
   ]
  },
  {
   "cell_type": "code",
   "execution_count": 76,
   "metadata": {},
   "outputs": [],
   "source": [
    "def addBookingSerializable(id_flight, client_name, quantity):\n",
    "    \"\"\"\n",
    "    Add booking with SERIALIZABLE isolation level\n",
    "    \n",
    "    Args:\n",
    "        id_flight (str): Flight ID\n",
    "        client_name (str): Client name\n",
    "        quantity (int): Seats to book\n",
    "        \n",
    "    Returns:\n",
    "        tuple: (retry: bool, status: str)\n",
    "    \"\"\"\n",
    "    conn = None\n",
    "    try:\n",
    "        conn = connectToDB(\"flight_reservation\")\n",
    "        cur = conn.cursor()\n",
    "        \n",
    "        # Set isolation level\n",
    "        cur.execute(\"SET TRANSACTION ISOLATION LEVEL SERIALIZABLE\")\n",
    "        \n",
    "        # Check if flight exists\n",
    "        cur.execute(\"SELECT 1 FROM Flight WHERE id_flight=?;\", (id_flight,))\n",
    "        if not cur.fetchone():\n",
    "            return (False, \"Invalid\")\n",
    "            \n",
    "        # Check available capacity\n",
    "        cur.execute(\n",
    "            \"SELECT (current_capacity+?)<=maximum_capacity FROM Flight WHERE id_flight=?;\",\n",
    "            (quantity, id_flight)\n",
    "        )\n",
    "        available = cur.fetchone()[0]\n",
    "        if not available:\n",
    "            return (False, \"Full\")\n",
    "            \n",
    "        # Simulate payment processing (3-5 seconds)\n",
    "        time.sleep(random.randint(3, 5))\n",
    "        \n",
    "        # Insert booking record\n",
    "        cur.execute(\n",
    "            \"INSERT INTO Booking (client_name, quantity, id_flight) VALUES (?, ?, ?);\",\n",
    "            (client_name, quantity, id_flight)\n",
    "        )\n",
    "        \n",
    "        # Update flight capacity\n",
    "        cur.execute(\n",
    "            \"UPDATE Flight SET current_capacity = current_capacity + ? WHERE id_flight=?;\",\n",
    "            (quantity, id_flight)\n",
    "        )\n",
    "        \n",
    "        conn.commit()\n",
    "        return (False, \"Reserved\")\n",
    "        \n",
    "    except mariadb.Error as e:\n",
    "        print(f\"Booking error: {e}\")\n",
    "        if conn:\n",
    "            conn.rollback()\n",
    "        return (True, \"Error\")\n",
    "    finally:\n",
    "        if conn:\n",
    "            conn.close()\n",
    "\n"
   ]
  },
  {
   "cell_type": "code",
   "execution_count": 80,
   "metadata": {},
   "outputs": [
    {
     "data": {
      "text/markdown": [
       "### Cleaning database for multi-threading tests"
      ],
      "text/plain": [
       "<IPython.core.display.Markdown object>"
      ]
     },
     "metadata": {},
     "output_type": "display_data"
    }
   ],
   "source": [
    "display(Markdown(\"### Cleaning database for multi-threading tests\"))\n",
    "cleanDB(\"LH6795\")"
   ]
  },
  {
   "cell_type": "code",
   "execution_count": 79,
   "metadata": {},
   "outputs": [
    {
     "data": {
      "text/markdown": [
       "### Testing with SERIALIZABLE isolation"
      ],
      "text/plain": [
       "<IPython.core.display.Markdown object>"
      ]
     },
     "metadata": {},
     "output_type": "display_data"
    },
    {
     "name": "stdout",
     "output_type": "stream",
     "text": [
      "Processing Flight LH6795 for Client 0: 1 seats.\n",
      "Processing Flight LH6795 for Client 1: 2 seats.\n",
      "Processing Flight LH6795 for Client 2: 1 seats.\n",
      "Processing Flight LH6795 for Client 3: 3 seats.\n",
      "Processing Flight LH6795 for Client 4: 2 seats.\n",
      "Booking error: Deadlock found when trying to get lock; try restarting transaction\n",
      "Client 1: Error Should retry: False\n",
      "Client 1: Booking failed - Unknown error.\n",
      "Client 0: Reserved Should retry: False\n",
      "Client 0: Booking successful.\n",
      "Booking error: Deadlock found when trying to get lock; try restarting transaction\n",
      "Booking error: Deadlock found when trying to get lock; try restarting transaction\n",
      "Client 2: Error Should retry: False\n",
      "Client 2: Booking failed - Unknown error.\n",
      "Client 3: Error Should retry: False\n",
      "Client 3: Booking failed - Unknown error.\n",
      "Client 4: Reserved Should retry: False\n",
      "Client 4: Booking successful.\n",
      "Finished\n"
     ]
    }
   ],
   "source": [
    "# Test with SERIALIZABLE isolation\n",
    "display(Markdown(\"### Testing with SERIALIZABLE isolation\"))\n",
    "cleanDB(id_flight)\n",
    "\n",
    "# Create and start threads\n",
    "jobs = []\n",
    "for i in range(5):\n",
    "    jobs.append(threading.Thread(\n",
    "        target=processBooking,\n",
    "        args=(id_flight, base_name + str(i), random.randint(1, 4))\n",
    "    ))\n",
    "\n",
    "# Start threads without delay\n",
    "for job in jobs:\n",
    "    job.start()\n",
    "\n",
    "# Wait for completion\n",
    "for job in jobs:\n",
    "    job.join()\n",
    "    \n",
    "print(\"Finished\")\n"
   ]
  },
  {
   "cell_type": "markdown",
   "metadata": {},
   "source": [
    "## Exercise 7-11: Benchmarking (Partial Implementation)"
   ]
  },
  {
   "cell_type": "code",
   "execution_count": 22,
   "metadata": {},
   "outputs": [],
   "source": [
    "def checkDuplicateSeats():\n",
    "    \"\"\"\n",
    "    Check for passengers assigned to same seat on same flight\n",
    "    \n",
    "    Returns:\n",
    "        list: Duplicate seat assignments\n",
    "    \"\"\"\n",
    "    conn = connectToDB(\"flight_reservation\")\n",
    "    cur = conn.cursor()\n",
    "    \n",
    "    query = \"\"\"\n",
    "    SELECT f.flight_id, b.booking_id, r.seat, COUNT(*) as duplicates\n",
    "    FROM Flight f\n",
    "    JOIN Booking b ON f.flight_id = b.flight_id\n",
    "    JOIN Reserve r ON b.booking_id = r.booking_id\n",
    "    GROUP BY f.flight_id, r.seat\n",
    "    HAVING duplicates > 1\n",
    "    \"\"\"\n",
    "    \n",
    "    cur.execute(query)\n",
    "    results = cur.fetchall()\n",
    "    conn.close()\n",
    "    return results\n",
    "\n",
    "def checkOverlappingFlights():\n",
    "    \"\"\"\n",
    "    Check for passengers booked on overlapping flights\n",
    "    \n",
    "    Returns:\n",
    "        list: Overlapping flight bookings\n",
    "    \"\"\"\n",
    "    conn = connectToDB(\"flight_reservation\")\n",
    "    cur = conn.cursor()\n",
    "    \n",
    "    query = \"\"\"\n",
    "    [Implementation of overlapping flight check]\n",
    "    \"\"\"\n",
    "    \n",
    "    cur.execute(query)\n",
    "    results = cur.fetchall()\n",
    "    conn.close()\n",
    "    return results\n",
    "\n"
   ]
  },
  {
   "cell_type": "code",
   "execution_count": 23,
   "metadata": {},
   "outputs": [
    {
     "data": {
      "text/markdown": [
       "### Running data consistency checks"
      ],
      "text/plain": [
       "<IPython.core.display.Markdown object>"
      ]
     },
     "metadata": {},
     "output_type": "display_data"
    },
    {
     "ename": "ProgrammingError",
     "evalue": "Table 'flight_reservation.Reserve' doesn't exist",
     "output_type": "error",
     "traceback": [
      "\u001b[1;31m---------------------------------------------------------------------------\u001b[0m",
      "\u001b[1;31mProgrammingError\u001b[0m                          Traceback (most recent call last)",
      "Cell \u001b[1;32mIn[23], line 5\u001b[0m\n\u001b[0;32m      2\u001b[0m display(Markdown(\u001b[38;5;124m\"\u001b[39m\u001b[38;5;124m### Running data consistency checks\u001b[39m\u001b[38;5;124m\"\u001b[39m))\n\u001b[0;32m      3\u001b[0m start_time \u001b[38;5;241m=\u001b[39m time\u001b[38;5;241m.\u001b[39mtime()\n\u001b[1;32m----> 5\u001b[0m duplicates \u001b[38;5;241m=\u001b[39m checkDuplicateSeats()\n\u001b[0;32m      6\u001b[0m display(Markdown(\u001b[38;5;124mf\u001b[39m\u001b[38;5;124m\"\u001b[39m\u001b[38;5;124m**Duplicate seats found:** \u001b[39m\u001b[38;5;132;01m{\u001b[39;00m\u001b[38;5;28mlen\u001b[39m(duplicates)\u001b[38;5;132;01m}\u001b[39;00m\u001b[38;5;124m\"\u001b[39m))\n\u001b[0;32m      8\u001b[0m overlaps \u001b[38;5;241m=\u001b[39m checkOverlappingFlights()\n",
      "Cell \u001b[1;32mIn[22], line 20\u001b[0m, in \u001b[0;36mcheckDuplicateSeats\u001b[1;34m()\u001b[0m\n\u001b[0;32m      9\u001b[0m cur \u001b[38;5;241m=\u001b[39m conn\u001b[38;5;241m.\u001b[39mcursor()\n\u001b[0;32m     11\u001b[0m query \u001b[38;5;241m=\u001b[39m \u001b[38;5;124m\"\"\"\u001b[39m\n\u001b[0;32m     12\u001b[0m \u001b[38;5;124mSELECT f.flight_id, b.booking_id, r.seat, COUNT(*) as duplicates\u001b[39m\n\u001b[0;32m     13\u001b[0m \u001b[38;5;124mFROM Flight f\u001b[39m\n\u001b[1;32m   (...)\u001b[0m\n\u001b[0;32m     17\u001b[0m \u001b[38;5;124mHAVING duplicates > 1\u001b[39m\n\u001b[0;32m     18\u001b[0m \u001b[38;5;124m\u001b[39m\u001b[38;5;124m\"\"\"\u001b[39m\n\u001b[1;32m---> 20\u001b[0m cur\u001b[38;5;241m.\u001b[39mexecute(query)\n\u001b[0;32m     21\u001b[0m results \u001b[38;5;241m=\u001b[39m cur\u001b[38;5;241m.\u001b[39mfetchall()\n\u001b[0;32m     22\u001b[0m conn\u001b[38;5;241m.\u001b[39mclose()\n",
      "File \u001b[1;32m~\\AppData\\Roaming\\Python\\Python312\\site-packages\\mariadb\\cursors.py:310\u001b[0m, in \u001b[0;36mCursor.execute\u001b[1;34m(self, statement, data, buffered)\u001b[0m\n\u001b[0;32m    308\u001b[0m         \u001b[38;5;28mself\u001b[39m\u001b[38;5;241m.\u001b[39m_transformed_statement \u001b[38;5;241m=\u001b[39m \u001b[38;5;28mself\u001b[39m\u001b[38;5;241m.\u001b[39mstatement\n\u001b[0;32m    309\u001b[0m     \u001b[38;5;28mself\u001b[39m\u001b[38;5;241m.\u001b[39m_execute_text(\u001b[38;5;28mself\u001b[39m\u001b[38;5;241m.\u001b[39m_transformed_statement)\n\u001b[1;32m--> 310\u001b[0m     \u001b[38;5;28mself\u001b[39m\u001b[38;5;241m.\u001b[39m_readresponse()\n\u001b[0;32m    311\u001b[0m \u001b[38;5;28;01melse\u001b[39;00m:\n\u001b[0;32m    312\u001b[0m     \u001b[38;5;28mself\u001b[39m\u001b[38;5;241m.\u001b[39m_data \u001b[38;5;241m=\u001b[39m data\n",
      "\u001b[1;31mProgrammingError\u001b[0m: Table 'flight_reservation.Reserve' doesn't exist"
     ]
    }
   ],
   "source": [
    "# Example benchmark tests\n",
    "display(Markdown(\"### Running data consistency checks\"))\n",
    "start_time = time.time()\n",
    "\n",
    "duplicates = checkDuplicateSeats()\n",
    "display(Markdown(f\"**Duplicate seats found:** {len(duplicates)}\"))\n",
    "\n",
    "overlaps = checkOverlappingFlights()\n",
    "display(Markdown(f\"**Overlapping flights found:** {len(overlaps)}\"))\n",
    "\n",
    "display(Markdown(f\"**Total execution time:** {time.time() - start_time:.2f} seconds\"))"
   ]
  },
  {
   "cell_type": "markdown",
   "metadata": {},
   "source": [
    "## Conclusion"
   ]
  },
  {
   "cell_type": "code",
   "execution_count": 21,
   "metadata": {},
   "outputs": [
    {
     "data": {
      "text/markdown": [
       "\n",
       "## Lab Conclusions\n",
       "\n",
       "### Transaction Isolation Findings:\n",
       "1. **READ UNCOMMITTED**: Most performant but allows dirty reads\n",
       "2. **READ COMMITTED**: Prevents dirty reads but allows non-repeatable reads\n",
       "3. **REPEATABLE READ**: Default in MariaDB, prevents non-repeatable reads but allows phantom reads\n",
       "4. **SERIALIZABLE**: Most strict, prevents all concurrency issues but impacts performance\n",
       "\n",
       "### Multi-threading Observations:\n",
       "- Without proper isolation, concurrent bookings can overbook flights\n",
       "- SERIALIZABLE isolation prevents this but increases contention\n",
       "- Retry mechanisms help handle transaction failures gracefully\n",
       "\n",
       "### Recommendations:\n",
       "1. Use SERIALIZABLE for critical operations like bookings\n",
       "2. Implement retry logic for failed transactions\n",
       "3. Add application-level checks to complement database constraints\n"
      ],
      "text/plain": [
       "<IPython.core.display.Markdown object>"
      ]
     },
     "metadata": {},
     "output_type": "display_data"
    }
   ],
   "source": [
    "display(Markdown(\"\"\"\n",
    "## Lab Conclusions\n",
    "\n",
    "### Transaction Isolation Findings:\n",
    "1. **READ UNCOMMITTED**: Most performant but allows dirty reads\n",
    "2. **READ COMMITTED**: Prevents dirty reads but allows non-repeatable reads\n",
    "3. **REPEATABLE READ**: Default in MariaDB, prevents non-repeatable reads but allows phantom reads\n",
    "4. **SERIALIZABLE**: Most strict, prevents all concurrency issues but impacts performance\n",
    "\n",
    "### Multi-threading Observations:\n",
    "- Without proper isolation, concurrent bookings can overbook flights\n",
    "- SERIALIZABLE isolation prevents this but increases contention\n",
    "- Retry mechanisms help handle transaction failures gracefully\n",
    "\n",
    "### Recommendations:\n",
    "1. Use SERIALIZABLE for critical operations like bookings\n",
    "2. Implement retry logic for failed transactions\n",
    "3. Add application-level checks to complement database constraints\n",
    "\"\"\"))"
   ]
  }
 ],
 "metadata": {
  "kernelspec": {
   "display_name": "Python 3",
   "language": "python",
   "name": "python3"
  },
  "language_info": {
   "codemirror_mode": {
    "name": "ipython",
    "version": 3
   },
   "file_extension": ".py",
   "mimetype": "text/x-python",
   "name": "python",
   "nbconvert_exporter": "python",
   "pygments_lexer": "ipython3",
   "version": "3.12.7"
  }
 },
 "nbformat": 4,
 "nbformat_minor": 4
}
