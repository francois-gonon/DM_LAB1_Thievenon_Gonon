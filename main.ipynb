{
 "cells": [
  {
   "cell_type": "markdown",
   "metadata": {},
   "source": [
    "# Flight Reservation System - Transaction Processing Lab"
   ]
  },
  {
   "cell_type": "code",
   "execution_count": 1,
   "metadata": {},
   "outputs": [],
   "source": [
    "# Import required libraries\n",
    "import mariadb\n",
    "import threading\n",
    "import random\n",
    "import time\n",
    "from IPython.display import display, Markdown\n",
    "\n",
    "# Exception used to stop Notebook cell execution politely\n",
    "class StopExecution(Exception):\n",
    "    def __render_traceback__(self):\n",
    "        pass"
   ]
  },
  {
   "cell_type": "markdown",
   "metadata": {},
   "source": [
    "## Exercise 4: Database Connection Setup"
   ]
  },
  {
   "cell_type": "code",
   "execution_count": 2,
   "metadata": {},
   "outputs": [
    {
     "data": {
      "text/markdown": [
       "### ✅ Successfully connected to database"
      ],
      "text/plain": [
       "<IPython.core.display.Markdown object>"
      ]
     },
     "metadata": {},
     "output_type": "display_data"
    }
   ],
   "source": [
    "def connectToDB(db_name):\n",
    "    \"\"\"\n",
    "    Connect to MariaDB database and return connection object\n",
    "    \n",
    "    Args:\n",
    "        db_name (str): Name of database to connect to\n",
    "        \n",
    "    Returns:\n",
    "        mariadb.Connection: Database connection object\n",
    "        \n",
    "    Raises:\n",
    "        StopExecution: If connection fails\n",
    "    \"\"\"\n",
    "    try:\n",
    "        conn = mariadb.connect(\n",
    "            user=\"root\",\n",
    "            password=\"password\",  # Password set in docker run command\n",
    "            host=\"localhost\",   # Using localhost due to docker port forwarding\n",
    "            port=3306,\n",
    "            database=db_name\n",
    "        )\n",
    "        return conn\n",
    "    except mariadb.Error as e:\n",
    "        print(f\"Error connecting to MariaDB Platform: {e}\")\n",
    "        raise StopExecution\n",
    "\n",
    "# Test connection\n",
    "try:\n",
    "    conn = connectToDB(\"flight_reservation\")\n",
    "    display(Markdown(\"### ✅ Successfully connected to database\"))\n",
    "except:\n",
    "    display(Markdown(\"### ❌ Failed to connect to database\"))"
   ]
  },
  {
   "cell_type": "markdown",
   "metadata": {},
   "source": [
    "## Database Schema Inspection"
   ]
  },
  {
   "cell_type": "code",
   "execution_count": 3,
   "metadata": {},
   "outputs": [
    {
     "data": {
      "text/markdown": [
       "### Database Schema"
      ],
      "text/plain": [
       "<IPython.core.display.Markdown object>"
      ]
     },
     "metadata": {},
     "output_type": "display_data"
    },
    {
     "name": "stdout",
     "output_type": "stream",
     "text": [
      "** Booking **\n",
      "Field           \tType      \tNull\tKey\tDefault\tExtra\n",
      "id_booking      \tint(11)   \tNO\tPRI\tNone\tauto_increment\n",
      "client_name     \tvarchar(50)\tNO\t\tNone\t\n",
      "quantity        \tint(2)    \tNO\t\tNone\t\n",
      "id_flight       \tvarchar(20)\tNO\tMUL\tNone\t\n",
      "\n",
      "\n",
      "** Flight **\n",
      "Field           \tType      \tNull\tKey\tDefault\tExtra\n",
      "id_flight       \tvarchar(20)\tNO\tPRI\tNone\t\n",
      "maximum_capacity\tint(3)    \tNO\t\tNone\t\n",
      "current_capacity\tint(3)    \tNO\t\t0\t\n",
      "\n",
      "\n"
     ]
    }
   ],
   "source": [
    "def showTablesAndColumns(conn):\n",
    "    \"\"\"\n",
    "    Display all tables and their columns in the database\n",
    "    \n",
    "    Args:\n",
    "        conn (mariadb.Connection): Active database connection\n",
    "    \"\"\"\n",
    "    cur = conn.cursor()\n",
    "    \n",
    "    # Query the tables\n",
    "    cur.execute(\"SHOW TABLES;\")\n",
    "    \n",
    "    # For each table\n",
    "    for table in cur.fetchall():\n",
    "        print(f\"** {table[0]} **\")\n",
    "        \n",
    "        # Column display format\n",
    "        outputFormat = \"{:16}\\t{:10}\\t{}\\t{}\\t{}\\t{}\"\n",
    "        \n",
    "        # Print headers\n",
    "        print(outputFormat.format(\"Field\", \"Type\", \"Null\", \"Key\", \"Default\", \"Extra\"))\n",
    "        \n",
    "        # Query the columns\n",
    "        cur.execute(f'SHOW COLUMNS FROM {table[0]};')\n",
    "        \n",
    "        # Print each column's attributes\n",
    "        for attribute in cur.fetchall():\n",
    "            print(outputFormat.format(*attribute[:6]))\n",
    "        print(\"\\n\")\n",
    "\n",
    "# Display schema\n",
    "display(Markdown(\"### Database Schema\"))\n",
    "showTablesAndColumns(conn)"
   ]
  },
  {
   "cell_type": "markdown",
   "metadata": {},
   "source": [
    "## Exercise 5: Flight and Booking Management"
   ]
  },
  {
   "cell_type": "markdown",
   "metadata": {},
   "source": [
    "### 5.1: Add Flight Function"
   ]
  },
  {
   "cell_type": "code",
   "execution_count": 4,
   "metadata": {},
   "outputs": [],
   "source": [
    "def addFlight(id_flight, maximum_capacity):\n",
    "    \"\"\"\n",
    "    Add a new flight to the Flight table\n",
    "    \n",
    "    Args:\n",
    "        id_flight (str): Flight ID (max 20 chars)\n",
    "        maximum_capacity (int): Maximum seats (<= 999)\n",
    "        \n",
    "    Returns:\n",
    "        bool: True if successful, False otherwise\n",
    "    \"\"\"\n",
    "    try:\n",
    "        conn = connectToDB(\"flight_reservation\")\n",
    "        cur = conn.cursor()\n",
    "        \n",
    "        # Validate capacity constraint\n",
    "        if maximum_capacity > 999:\n",
    "            print(\"Error: Maximum capacity cannot exceed 999\")\n",
    "            return False\n",
    "            \n",
    "        # Insert new flight with current_capacity = 0\n",
    "        cur.execute(\n",
    "            \"INSERT INTO Flight (id_flight, maximum_capacity, current_capacity) VALUES (?, ?, 0)\",\n",
    "            (id_flight, maximum_capacity)\n",
    "        )\n",
    "        conn.commit()\n",
    "        return True\n",
    "        \n",
    "    except mariadb.Error as e:\n",
    "        print(f\"Error adding flight: {e}\")\n",
    "        conn.rollback()\n",
    "        return False\n",
    "    finally:\n",
    "        conn.close()\n",
    "\n",
    "\n"
   ]
  },
  {
   "cell_type": "code",
   "execution_count": 5,
   "metadata": {},
   "outputs": [
    {
     "data": {
      "text/markdown": [
       "### Testing addFlight()"
      ],
      "text/plain": [
       "<IPython.core.display.Markdown object>"
      ]
     },
     "metadata": {},
     "output_type": "display_data"
    },
    {
     "name": "stdout",
     "output_type": "stream",
     "text": [
      "Error adding flight: Duplicate entry 'LH6795' for key 'PRIMARY'\n"
     ]
    },
    {
     "data": {
      "text/plain": [
       "False"
      ]
     },
     "execution_count": 5,
     "metadata": {},
     "output_type": "execute_result"
    }
   ],
   "source": [
    "# Test addFlight\n",
    "display(Markdown(\"### Testing addFlight()\"))\n",
    "addFlight(\"LH6795\", 10)"
   ]
  },
  {
   "cell_type": "markdown",
   "metadata": {},
   "source": [
    "### 5.2: Add Booking Function"
   ]
  },
  {
   "cell_type": "code",
   "execution_count": 6,
   "metadata": {},
   "outputs": [],
   "source": [
    "# Global tracking of processed bookings to prevent duplicates\n",
    "processed_bookings = set()\n",
    "\n",
    "def addBooking(id_flight, client_name, quantity):\n",
    "    \"\"\"\n",
    "    Attempt to add a booking with transaction processing and optimistic locking.\n",
    "    Uses global tracking to prevent duplicate processing.\n",
    "    \n",
    "    Args:\n",
    "        id_flight (str): Flight ID to book.\n",
    "        client_name (str): Client name (max 50 chars).\n",
    "        quantity (int): Number of seats to book (<= 99).\n",
    "        \n",
    "    Returns:\n",
    "        tuple: (retry: bool, status: str)\n",
    "               retry - True if should retry later.\n",
    "               status - \"Invalid\", \"Full\", \"Reserved\", \"Error\".\n",
    "    \"\"\"\n",
    "    # Check if this booking has already been processed (memory-based check)\n",
    "    booking_key = (id_flight, client_name)\n",
    "    if booking_key in processed_bookings:\n",
    "        print(f\"Booking for {client_name} on {id_flight} already processed. Skipping.\")\n",
    "        return (False, \"Reserved\")\n",
    "        \n",
    "    conn = None\n",
    "    try:\n",
    "        conn = connectToDB(\"flight_reservation\")\n",
    "        cur = conn.cursor()\n",
    "        \n",
    "        # Set isolation level to SERIALIZABLE\n",
    "        cur.execute(\"SET TRANSACTION ISOLATION LEVEL SERIALIZABLE\")\n",
    "        \n",
    "        # Database-based duplicate check\n",
    "        cur.execute(\n",
    "            \"SELECT 1 FROM Booking WHERE client_name=? AND id_flight=?;\",\n",
    "            (client_name, id_flight)\n",
    "        )\n",
    "        if cur.fetchone():\n",
    "            processed_bookings.add(booking_key)  # Add to processed set\n",
    "            return (False, \"Reserved\")  # Already exists in database\n",
    "        \n",
    "        # Get current flight state with FOR UPDATE to lock the row\n",
    "        cur.execute(\n",
    "            \"SELECT maximum_capacity, current_capacity FROM Flight WHERE id_flight=? FOR UPDATE;\",\n",
    "            (id_flight,)\n",
    "        )\n",
    "        result = cur.fetchone()\n",
    "        \n",
    "        if not result:\n",
    "            return (False, \"Invalid\")\n",
    "        \n",
    "        max_cap, curr_cap = result\n",
    "        \n",
    "        # Check available capacity\n",
    "        if (curr_cap + quantity) > max_cap:\n",
    "            return (False, \"Full\")\n",
    "        \n",
    "        # Insert booking first\n",
    "        cur.execute(\n",
    "            \"INSERT INTO Booking (client_name, quantity, id_flight) VALUES (?, ?, ?);\",\n",
    "            (client_name, quantity, id_flight)\n",
    "        )\n",
    "        \n",
    "        # Then update flight capacity\n",
    "        cur.execute(\n",
    "            \"UPDATE Flight SET current_capacity = ? WHERE id_flight=?;\",\n",
    "            (curr_cap + quantity, id_flight)  # Use explicit value instead of increment\n",
    "        )\n",
    "        \n",
    "        conn.commit()\n",
    "        processed_bookings.add(booking_key)  # Add to processed set after successful commit\n",
    "        return (False, \"Reserved\")\n",
    "        \n",
    "    except mariadb.Error as e:\n",
    "        print(f\"Booking error: {e}\")\n",
    "        if conn:\n",
    "            conn.rollback()\n",
    "        # Only retry on deadlock or lock timeout errors\n",
    "        if \"1213\" in str(e) or \"1205\" in str(e):\n",
    "            return (True, \"Error\")\n",
    "        return (False, \"Error\")\n",
    "    finally:\n",
    "        if conn:\n",
    "            conn.close()"
   ]
  },
  {
   "cell_type": "code",
   "execution_count": null,
   "metadata": {},
   "outputs": [],
   "source": [
    "# Test sequential bookings\n",
    "display(Markdown(\"### Testing sequential bookings\"))\n",
    "print(addBooking(\"LH6795\", \"Client 0\", 1))\n",
    "print(addBooking(\"LH6795\", \"Client 1\", 4))\n",
    "print(addBooking(\"LH6795\", \"Client 2\", 3)) \n",
    "print(addBooking(\"LH6795\", \"Client 3\", 3))  # Should fail (Full)"
   ]
  },
  {
   "cell_type": "markdown",
   "metadata": {},
   "source": [
    "## Exercise 6: Multi-threading and Isolation Levels"
   ]
  },
  {
   "cell_type": "markdown",
   "metadata": {},
   "source": [
    "### Database Cleanup Function"
   ]
  },
  {
   "cell_type": "code",
   "execution_count": 7,
   "metadata": {},
   "outputs": [
    {
     "data": {
      "text/markdown": [
       "### Cleaning database for multi-threading tests"
      ],
      "text/plain": [
       "<IPython.core.display.Markdown object>"
      ]
     },
     "metadata": {},
     "output_type": "display_data"
    }
   ],
   "source": [
    "def cleanDB(id_flight):\n",
    "    \"\"\"\n",
    "    Reset database state for a flight\n",
    "    \n",
    "    Args:\n",
    "        id_flight (str): Flight ID to clean\n",
    "    \"\"\"\n",
    "    global processed_bookings  # Clear the global tracking set too\n",
    "    processed_bookings = set()\n",
    "    \n",
    "    conn = connectToDB(\"flight_reservation\")\n",
    "    cur = conn.cursor()\n",
    "    cur.execute(\"DELETE FROM Booking WHERE id_flight=?;\", (id_flight,))\n",
    "    cur.execute(\"UPDATE Flight SET current_capacity=0 WHERE id_flight=?;\", (id_flight,))\n",
    "    conn.commit()\n",
    "    conn.close()\n",
    "\n",
    "# Test cleanup\n",
    "display(Markdown(\"### Cleaning database for multi-threading tests\"))\n",
    "cleanDB(\"LH6795\")\n"
   ]
  },
  {
   "cell_type": "markdown",
   "metadata": {},
   "source": [
    "### Thread Processing Function"
   ]
  },
  {
   "cell_type": "code",
   "execution_count": 8,
   "metadata": {},
   "outputs": [],
   "source": [
    "def processBooking(id_flight, client_name, quantity):\n",
    "    \"\"\"\n",
    "    Wrapper for addBooking to use in threads.\n",
    "    Ensures each client is processed only once.\n",
    "    \n",
    "    Args:\n",
    "        id_flight (str): Flight ID.\n",
    "        client_name (str): Client name.\n",
    "        quantity (int): Number of seats to book.\n",
    "    \"\"\"\n",
    "    print(f\"Processing Flight {id_flight} for {client_name}: {quantity} seats.\")\n",
    "    retry, status = addBooking(id_flight, client_name, quantity)\n",
    "    print(f\"{client_name}: {status} Should retry: {retry}\")\n",
    "    \n",
    "    # Retry logic if needed.\n",
    "    while retry:\n",
    "        print(f\"Retry Flight {id_flight} for {client_name}: {quantity} seats.\")\n",
    "        retry, status = addBooking(id_flight, client_name, quantity)\n",
    "        print(f\"{client_name}: {status}\")\n",
    "        if not retry:\n",
    "            break\n",
    "    \n",
    "    if status == \"Reserved\":\n",
    "        print(f\"{client_name}: Booking successful.\")\n",
    "    elif status == \"Full\":\n",
    "        print(f\"{client_name}: Booking failed - Flight is full.\")\n",
    "    elif status == \"Invalid\":\n",
    "        print(f\"{client_name}: Booking failed - Invalid flight ID.\")\n",
    "    else:\n",
    "        print(f\"{client_name}: Booking failed - Unknown error.\")"
   ]
  },
  {
   "cell_type": "markdown",
   "metadata": {},
   "source": [
    "### 6.1-6.3: Basic Multi-threading Test"
   ]
  },
  {
   "cell_type": "code",
   "execution_count": 9,
   "metadata": {},
   "outputs": [
    {
     "data": {
      "text/markdown": [
       "### Running multi-threaded bookings with delay"
      ],
      "text/plain": [
       "<IPython.core.display.Markdown object>"
      ]
     },
     "metadata": {},
     "output_type": "display_data"
    },
    {
     "name": "stdout",
     "output_type": "stream",
     "text": [
      "Processing Flight LH6795 for Client 0: 2 seats.\n",
      "Client 0: Reserved Should retry: False\n",
      "Client 0: Booking successful.\n",
      "Processing Flight LH6795 for Client 1: 3 seats.\n",
      "Client 1: Reserved Should retry: False\n",
      "Client 1: Booking successful.\n",
      "Processing Flight LH6795 for Client 1: 3 seats.\n",
      "Client 1: Reserved Should retry: False\n",
      "Client 1: Booking successful.\n",
      "Processing Flight LH6795 for Client 2: 1 seats.\n",
      "Client 2: Reserved Should retry: False\n",
      "Client 2: Booking successful.\n",
      "Processing Flight LH6795 for Client 2: 1 seats.\n",
      "Client 2: Reserved Should retry: False\n",
      "Client 2: Booking successful.\n",
      "Processing Flight LH6795 for Client 3: 2 seats.\n",
      "Client 3: Reserved Should retry: False\n",
      "Client 3: Booking successful.\n",
      "Processing Flight LH6795 for Client 3: 2 seats.\n",
      "Client 3: Reserved Should retry: False\n",
      "Client 3: Booking successful.\n",
      "Processing Flight LH6795 for Client 4: 2 seats.\n",
      "Client 4: Reserved Should retry: False\n",
      "Client 4: Booking successful.\n",
      "Processing Flight LH6795 for Client 4: 2 seats.\n",
      "Client 4: Reserved Should retry: False\n",
      "Client 4: Booking successful.\n",
      "Finished\n",
      "Current capacity in DB: 10\n",
      "Total seats booked: 10\n",
      "These should match: ✅ Match\n",
      "Finished\n",
      "Current capacity in DB: 10\n",
      "Total seats booked: 10\n",
      "These should match: ✅ Match\n"
     ]
    }
   ],
   "source": [
    "# Test parameters\n",
    "id_flight = \"LH6795\"\n",
    "base_name = \"Client \"\n",
    "\n",
    "# Clean database and reset tracking\n",
    "cleanDB(id_flight)\n",
    "\n",
    "# Create and start threads\n",
    "jobs = []\n",
    "for i in range(5):\n",
    "    client_name = base_name + str(i)\n",
    "    quantity = random.randint(1, 4)\n",
    "    jobs.append(threading.Thread(\n",
    "        target=processBooking,\n",
    "        args=(id_flight, client_name, quantity)\n",
    "    ))\n",
    "\n",
    "# Start threads with delay\n",
    "display(Markdown(\"### Running multi-threaded bookings with delay\"))\n",
    "for job in jobs:\n",
    "    job.start()\n",
    "    time.sleep(3)  # Delay between thread starts\n",
    "\n",
    "# Wait for completion\n",
    "for job in jobs:\n",
    "    job.join()\n",
    "\n",
    "# Print finished only once\n",
    "print(\"Finished\")\n",
    "\n",
    "# Check final state\n",
    "conn = connectToDB(\"flight_reservation\")\n",
    "cur = conn.cursor()\n",
    "cur.execute(\"SELECT current_capacity FROM Flight WHERE id_flight=?;\", (id_flight,))\n",
    "current_capacity = cur.fetchone()[0]\n",
    "cur.execute(\"SELECT SUM(quantity) FROM Booking WHERE id_flight=?;\", (id_flight,))\n",
    "total_booked = cur.fetchone()[0] or 0\n",
    "conn.close()\n",
    "\n",
    "print(f\"Current capacity in DB: {current_capacity}\")\n",
    "print(f\"Total seats booked: {total_booked}\")\n",
    "print(f\"These should match: {'✅ Match' if current_capacity == total_booked else '❌ Mismatch'}\")  "
   ]
  },
  {
   "cell_type": "markdown",
   "metadata": {},
   "source": [
    "### 6.4: SERIALIZABLE Isolation Level"
   ]
  },
  {
   "cell_type": "code",
   "execution_count": 76,
   "metadata": {},
   "outputs": [],
   "source": [
    "def addBookingSerializable(id_flight, client_name, quantity):\n",
    "    \"\"\"\n",
    "    Add booking with SERIALIZABLE isolation level\n",
    "    \n",
    "    Args:\n",
    "        id_flight (str): Flight ID\n",
    "        client_name (str): Client name\n",
    "        quantity (int): Seats to book\n",
    "        \n",
    "    Returns:\n",
    "        tuple: (retry: bool, status: str)\n",
    "    \"\"\"\n",
    "    conn = None\n",
    "    try:\n",
    "        conn = connectToDB(\"flight_reservation\")\n",
    "        cur = conn.cursor()\n",
    "        \n",
    "        # Set isolation level\n",
    "        cur.execute(\"SET TRANSACTION ISOLATION LEVEL SERIALIZABLE\")\n",
    "        \n",
    "        # Check if flight exists\n",
    "        cur.execute(\"SELECT 1 FROM Flight WHERE id_flight=?;\", (id_flight,))\n",
    "        if not cur.fetchone():\n",
    "            return (False, \"Invalid\")\n",
    "            \n",
    "        # Check available capacity\n",
    "        cur.execute(\n",
    "            \"SELECT (current_capacity+?)<=maximum_capacity FROM Flight WHERE id_flight=?;\",\n",
    "            (quantity, id_flight)\n",
    "        )\n",
    "        available = cur.fetchone()[0]\n",
    "        if not available:\n",
    "            return (False, \"Full\")\n",
    "            \n",
    "        # Simulate payment processing (3-5 seconds)\n",
    "        time.sleep(random.randint(3, 5))\n",
    "        \n",
    "        # Insert booking record\n",
    "        cur.execute(\n",
    "            \"INSERT INTO Booking (client_name, quantity, id_flight) VALUES (?, ?, ?);\",\n",
    "            (client_name, quantity, id_flight)\n",
    "        )\n",
    "        \n",
    "        # Update flight capacity\n",
    "        cur.execute(\n",
    "            \"UPDATE Flight SET current_capacity = current_capacity + ? WHERE id_flight=?;\",\n",
    "            (quantity, id_flight)\n",
    "        )\n",
    "        \n",
    "        conn.commit()\n",
    "        return (False, \"Reserved\")\n",
    "        \n",
    "    except mariadb.Error as e:\n",
    "        print(f\"Booking error: {e}\")\n",
    "        if conn:\n",
    "            conn.rollback()\n",
    "        return (True, \"Error\")\n",
    "    finally:\n",
    "        if conn:\n",
    "            conn.close()\n",
    "\n"
   ]
  },
  {
   "cell_type": "code",
   "execution_count": 10,
   "metadata": {},
   "outputs": [
    {
     "data": {
      "text/markdown": [
       "### Cleaning database for multi-threading tests"
      ],
      "text/plain": [
       "<IPython.core.display.Markdown object>"
      ]
     },
     "metadata": {},
     "output_type": "display_data"
    }
   ],
   "source": [
    "display(Markdown(\"### Cleaning database for multi-threading tests\"))\n",
    "cleanDB(\"LH6795\")"
   ]
  },
  {
   "cell_type": "code",
   "execution_count": 79,
   "metadata": {},
   "outputs": [
    {
     "data": {
      "text/markdown": [
       "### Testing with SERIALIZABLE isolation"
      ],
      "text/plain": [
       "<IPython.core.display.Markdown object>"
      ]
     },
     "metadata": {},
     "output_type": "display_data"
    },
    {
     "name": "stdout",
     "output_type": "stream",
     "text": [
      "Processing Flight LH6795 for Client 0: 1 seats.\n",
      "Processing Flight LH6795 for Client 1: 2 seats.\n",
      "Processing Flight LH6795 for Client 2: 1 seats.\n",
      "Processing Flight LH6795 for Client 3: 3 seats.\n",
      "Processing Flight LH6795 for Client 4: 2 seats.\n",
      "Booking error: Deadlock found when trying to get lock; try restarting transaction\n",
      "Client 1: Error Should retry: False\n",
      "Client 1: Booking failed - Unknown error.\n",
      "Client 0: Reserved Should retry: False\n",
      "Client 0: Booking successful.\n",
      "Booking error: Deadlock found when trying to get lock; try restarting transaction\n",
      "Booking error: Deadlock found when trying to get lock; try restarting transaction\n",
      "Client 2: Error Should retry: False\n",
      "Client 2: Booking failed - Unknown error.\n",
      "Client 3: Error Should retry: False\n",
      "Client 3: Booking failed - Unknown error.\n",
      "Client 4: Reserved Should retry: False\n",
      "Client 4: Booking successful.\n",
      "Finished\n"
     ]
    }
   ],
   "source": [
    "# Test with SERIALIZABLE isolation\n",
    "display(Markdown(\"### Testing with SERIALIZABLE isolation\"))\n",
    "cleanDB(id_flight)\n",
    "\n",
    "# Create and start threads\n",
    "jobs = []\n",
    "for i in range(5):\n",
    "    jobs.append(threading.Thread(\n",
    "        target=processBooking,\n",
    "        args=(id_flight, base_name + str(i), random.randint(1, 4))\n",
    "    ))\n",
    "\n",
    "# Start threads without delay\n",
    "for job in jobs:\n",
    "    job.start()\n",
    "\n",
    "# Wait for completion\n",
    "for job in jobs:\n",
    "    job.join()\n",
    "    \n",
    "print(\"Finished\")\n"
   ]
  },
  {
   "cell_type": "markdown",
   "metadata": {},
   "source": [
    "## Exercise 7-11: Benchmarking (Partial Implementation)"
   ]
  },
  {
   "cell_type": "code",
   "execution_count": 13,
   "metadata": {},
   "outputs": [],
   "source": [
    "def checkDuplicateSeats():\n",
    "    \"\"\"\n",
    "    Check for passengers assigned to same seat on same flight\n",
    "    \n",
    "    Returns:\n",
    "        list: Duplicate seat assignments\n",
    "    \"\"\"\n",
    "    conn = connectToDB(\"benchmarking\")\n",
    "    cur = conn.cursor()\n",
    "    \n",
    "    query = \"\"\"\n",
    "    SELECT f.flight_id, b.booking_id, r.seat, COUNT(*) as duplicates\n",
    "    FROM Flight f\n",
    "    JOIN Booking b ON f.flight_id = b.flight_id\n",
    "    JOIN Reserve r ON b.booking_id = r.booking_id\n",
    "    GROUP BY f.flight_id, r.seat\n",
    "    HAVING duplicates > 1\n",
    "    \"\"\"\n",
    "    \n",
    "    cur.execute(query)\n",
    "    results = cur.fetchall()\n",
    "    conn.close()\n",
    "    return results\n",
    "\n",
    "def checkOverlappingFlights():\n",
    "    \"\"\"\n",
    "    Check for passengers booked on overlapping flights\n",
    "    Identifies passengers who have multiple bookings where flights overlap in time\n",
    "    \n",
    "    Returns:\n",
    "        list: Overlapping flight bookings with details\n",
    "    \"\"\"\n",
    "    conn = connectToDB(\"benchmarking\")\n",
    "    cur = conn.cursor()\n",
    "    \n",
    "    query = \"\"\"\n",
    "    SELECT\n",
    "        b1.client_name AS passenger,\n",
    "        f1.flight_id  AS flight1,\n",
    "        f1.departure_time AS departure1,\n",
    "        f1.arrival_time   AS arrival1,\n",
    "        f2.flight_id  AS flight2,\n",
    "        f2.departure_time AS departure2,\n",
    "        f2.arrival_time   AS arrival2\n",
    "    FROM Booking b1\n",
    "    JOIN Flight  f1 ON b1.flight_id  = f1.flight_id\n",
    "    JOIN Booking b2 ON b1.client_name = b2.client_name\n",
    "                   AND b1.booking_id < b2.booking_id\n",
    "    JOIN Flight  f2 ON b2.flight_id  = f2.flight_id\n",
    "    WHERE\n",
    "        (f1.departure_time BETWEEN f2.departure_time AND f2.arrival_time)\n",
    "     OR (f1.arrival_time   BETWEEN f2.departure_time AND f2.arrival_time)\n",
    "     OR (f2.departure_time BETWEEN f1.departure_time AND f1.arrival_time\n",
    "      AND f2.arrival_time   BETWEEN f1.departure_time AND f1.arrival_time)\n",
    "    ORDER BY passenger, departure1\n",
    "    \"\"\"\n",
    "    cur.execute(query)\n",
    "    results = cur.fetchall()\n",
    "    conn.close()\n",
    "    return results"
   ]
  },
  {
   "cell_type": "code",
   "execution_count": 17,
   "metadata": {},
   "outputs": [
    {
     "name": "stdout",
     "output_type": "stream",
     "text": [
      "** Booking **\n",
      "Field           \tType      \tNull\tKey\tDefault\tExtra\n",
      "id_booking      \tint(11)   \tNO\tPRI\tNone\tauto_increment\n",
      "client_name     \tvarchar(50)\tNO\t\tNone\t\n",
      "quantity        \tint(2)    \tNO\t\tNone\t\n",
      "id_flight       \tvarchar(20)\tNO\tMUL\tNone\t\n",
      "\n",
      "\n",
      "** Flight **\n",
      "Field           \tType      \tNull\tKey\tDefault\tExtra\n",
      "id_flight       \tvarchar(20)\tNO\tPRI\tNone\t\n",
      "maximum_capacity\tint(3)    \tNO\t\tNone\t\n",
      "current_capacity\tint(3)    \tNO\t\t0\t\n",
      "\n",
      "\n"
     ]
    }
   ],
   "source": [
    "showTablesAndColumns(conn)"
   ]
  },
  {
   "cell_type": "code",
   "execution_count": 15,
   "metadata": {},
   "outputs": [
    {
     "data": {
      "text/markdown": [
       "**Duplicate seats found:** 1990"
      ],
      "text/plain": [
       "<IPython.core.display.Markdown object>"
      ]
     },
     "metadata": {},
     "output_type": "display_data"
    },
    {
     "data": {
      "text/markdown": [
       "**Total execution time:** 0.33 seconds"
      ],
      "text/plain": [
       "<IPython.core.display.Markdown object>"
      ]
     },
     "metadata": {},
     "output_type": "display_data"
    }
   ],
   "source": [
    "# Example benchmark tests\n",
    "start_time = time.time()\n",
    "\n",
    "duplicates = checkDuplicateSeats()\n",
    "display(Markdown(f\"**Duplicate seats found:** {len(duplicates)}\"))\n",
    "\n",
    "#overlaps = checkOverlappingFlights()\n",
    "#display(Markdown(f\"**Overlapping flights found:** {len(overlaps)}\"))\n",
    "\n",
    "display(Markdown(f\"**Total execution time:** {time.time() - start_time:.2f} seconds\"))"
   ]
  }
 ],
 "metadata": {
  "kernelspec": {
   "display_name": "Python 3",
   "language": "python",
   "name": "python3"
  },
  "language_info": {
   "codemirror_mode": {
    "name": "ipython",
    "version": 3
   },
   "file_extension": ".py",
   "mimetype": "text/x-python",
   "name": "python",
   "nbconvert_exporter": "python",
   "pygments_lexer": "ipython3",
   "version": "3.12.7"
  }
 },
 "nbformat": 4,
 "nbformat_minor": 4
}
