{
 "cells": [
  {
   "cell_type": "code",
   "execution_count": 1,
   "metadata": {},
   "outputs": [
    {
     "name": "stdout",
     "output_type": "stream",
     "text": [
      "Error connecting to MariaDB Platform: Access denied for user 'root'@'localhost' (using password: YES)\n"
     ]
    }
   ],
   "source": [
    "# Module Imports\n",
    "import mariadb\n",
    "\n",
    "# Execption used to stop the Notebook cell execution politely\n",
    "class StopExecution(Exception):\n",
    "    def _render_traceback_(self):\n",
    "        pass\n",
    "\n",
    "# Connect to the server and return a Connection object for the db_name\n",
    "\n",
    "def connectToDB(db_name):\n",
    "    try:\n",
    "        return mariadb.connect(\n",
    "        user=\"root\",\n",
    "        password=\"password\",\n",
    "        host=\"localhost\", # Use of localhost because 1/ we don't have acces to the docker local network 2/ we have made a port redirection from themariadb server to the host\n",
    "        port=3306,\n",
    "        database=db_name\n",
    "        )\n",
    "\n",
    "    except mariadb.Error as e:\n",
    "        print(f\"Error connecting to MariaDB Platform: {e}\")\n",
    "        raise StopExecution\n",
    "            \n",
    "conn = connectToDB(\"flight_reservation\")"
   ]
  },
  {
   "cell_type": "code",
   "execution_count": 1,
   "metadata": {},
   "outputs": [
    {
     "ename": "NameError",
     "evalue": "name 'conn' is not defined",
     "output_type": "error",
     "traceback": [
      "\u001b[1;31m---------------------------------------------------------------------------\u001b[0m",
      "\u001b[1;31mNameError\u001b[0m                                 Traceback (most recent call last)",
      "Cell \u001b[1;32mIn[1], line 20\u001b[0m\n\u001b[0;32m     17\u001b[0m         \u001b[38;5;28;01mfor\u001b[39;00m attribute \u001b[38;5;129;01min\u001b[39;00m cur\u001b[38;5;241m.\u001b[39mfetchall(): \u001b[38;5;66;03m# Print the attribute (*attribute give the content of the tuple to the format function)\u001b[39;00m\n\u001b[0;32m     18\u001b[0m             \u001b[38;5;28mprint\u001b[39m(outputFormat\u001b[38;5;241m.\u001b[39mformat(\u001b[38;5;241m*\u001b[39mattribute))\n\u001b[1;32m---> 20\u001b[0m showTablesAndColumns(conn)\n",
      "\u001b[1;31mNameError\u001b[0m: name 'conn' is not defined"
     ]
    }
   ],
   "source": [
    "# A bit of dark magic? Just two intrincated query, one to get the TABLES, one for each TABLE to get the COLUMNS.\n",
    "# And a clever use of format to have aligned columns.\n",
    "def showTablesAndColumns(conn):\n",
    "    cur = conn.cursor()\n",
    "# Query the tables\n",
    "    cur.execute(\"SHOW TABLES;\")\n",
    "# For each table\n",
    "    for table in cur.fetchall():\n",
    "        print(\"**\",table[0],\"**\")\n",
    "# Defining the output format {:16} indicate at least 16 characters, add spaces if necessary\n",
    "        outputFormat=\"{:16}\\t{:10}\\t{}\\t{}\\t{}\\t{}\"\n",
    "# Printing the headers\n",
    "        print(outputFormat.format(\"Field\",\"Type\",\"Null\",\"Key\",\"Default\",\"Extra\"))\n",
    "# Query the columns\n",
    "        cur.execute('SHOW COLUMNS FROM {};'.format(table[0]))\n",
    "# For each column\n",
    "        for attribute in cur.fetchall(): # Print the attribute (*attribute give the content of the tuple to the format function)\n",
    "            print(outputFormat.format(*attribute))\n",
    "            \n",
    "showTablesAndColumns(conn)\n"
   ]
  },
  {
   "cell_type": "code",
   "execution_count": null,
   "metadata": {},
   "outputs": [],
   "source": [
    "import time\n",
    "\n",
    "def addFlight(id_flight, maximum_capacity):\n",
    "    try:\n",
    "        cur = conn.cursor()\n",
    "        # Insert a new flight with current_capacity set to 0\n",
    "        cur.execute(\n",
    "            \"INSERT INTO Flight (id_flight, maximum_capacity, current_capacity) VALUES (?, ?, ?);\",\n",
    "            (id_flight, maximum_capacity, 0)\n",
    "        )\n",
    "        conn.commit()\n",
    "        print(f\"Flight with id {id_flight} added successfully.\")\n",
    "    except mariadb.Error as e:\n",
    "        print(f\"Error adding flight: {e}\")\n",
    "\n",
    "\n",
    "def addBooking(id_flight, client_name, quantity):\n",
    "    try:\n",
    "        cur = conn.cursor()\n",
    "        # Check if the flight exists\n",
    "        cur.execute(\"SELECT maximum_capacity, current_capacity FROM Flight WHERE id_flight=?;\", (id_flight,))\n",
    "        flight = cur.fetchone()\n",
    "        print(f\"{client_name} flight checked\")\n",
    "        if not flight:\n",
    "            return (False, \"Invalid\")\n",
    "        maximum_capacity, current_capacity = flight\n",
    "        # Check if there are enough available seats\n",
    "        if current_capacity + quantity > maximum_capacity:\n",
    "            return (False, \"Full\")\n",
    "        # Simulate payment processing\n",
    "        time.sleep(3)\n",
    "        # Insert a new booking\n",
    "        cur.execute(\n",
    "            \"INSERT INTO Booking (id_flight, client_name, quantity) VALUES (?, ?, ?);\",\n",
    "            (id_flight, client_name, quantity)\n",
    "        )\n",
    "        print(f\"{client_name} insterted\")\n",
    "        # Update the flight's current capacity\n",
    "        cur.execute(\n",
    "            \"UPDATE Flight SET current_capacity = current_capacity + ? WHERE id_flight = ?;\",\n",
    "            (quantity, id_flight)\n",
    "        )\n",
    "        print(f\"{client_name} flight updated\")\n",
    "        conn.commit()\n",
    "        print(f\"{client_name} commited\")\n",
    "        return (False, \"Reserved\")\n",
    "    except mariadb.Error as e:\n",
    "        print(f\"Error adding booking {client_name}: {e}\")\n",
    "        return (True, \"Error\")"
   ]
  },
  {
   "cell_type": "code",
   "execution_count": null,
   "metadata": {},
   "outputs": [],
   "source": [
    "def cleanDB(id_flight):\n",
    "    conn = connectToDB(\"flight_reservation\")\n",
    "    cur = conn.cursor()\n",
    "    cur.execute(\"DELETE FROM Booking WHERE id_flight=?;\",(id_flight,))\n",
    "    cur.execute(\"UPDATE Flight SET current_capacity=0 WHERE id_flight=?;\",(id_flight,))\n",
    "    conn.commit() # Without commit the modification are not applied to the database"
   ]
  },
  {
   "cell_type": "code",
   "execution_count": null,
   "metadata": {},
   "outputs": [],
   "source": [
    "def processBooking(id_flight, client_name, quantity):\n",
    "    print(\"Processing Flight\",id_flight,\"for\",client_name,\":\", quantity,\"seats.\")\n",
    "    retry,status = addBooking(id_flight,client_name,quantity)\n",
    "    print(client_name,\":\",status, \"Should retry:\",retry)"
   ]
  },
  {
   "cell_type": "code",
   "execution_count": null,
   "metadata": {},
   "outputs": [],
   "source": [
    "cleanDB(\"LH6795\")"
   ]
  },
  {
   "cell_type": "code",
   "execution_count": 5,
   "metadata": {},
   "outputs": [
    {
     "name": "stderr",
     "output_type": "stream",
     "text": [
      "Exception in thread Thread-3 (processBooking):\n",
      "Traceback (most recent call last):\n",
      "  File \"c:\\ProgramData\\miniconda3\\Lib\\threading.py\", line 1075, in _bootstrap_inner\n",
      "    self.run()\n",
      "  File \"c:\\ProgramData\\miniconda3\\Lib\\site-packages\\ipykernel\\ipkernel.py\", line 766, in run_closure\n",
      "    _threading_Thread_run(self)\n",
      "  File \"c:\\ProgramData\\miniconda3\\Lib\\threading.py\", line 1012, in run\n",
      "    self._target(*self._args, **self._kwargs)\n",
      "  File \"C:\\Users\\mrnew\\AppData\\Local\\Temp\\ipykernel_15264\\1715268380.py\", line 64, in processBooking\n",
      "  File \"C:\\Users\\mrnew\\AppData\\Local\\Temp\\ipykernel_15264\\1715268380.py\", line 27, in addBooking\n",
      "TypeError: cannot unpack non-iterable bool object\n"
     ]
    },
    {
     "name": "stdout",
     "output_type": "stream",
     "text": [
      "Processing Flight LH6795 for Client 0 : 1 seats.\n",
      "Client 0 flight checked\n"
     ]
    },
    {
     "name": "stderr",
     "output_type": "stream",
     "text": [
      "Exception in thread Thread-4 (processBooking):\n",
      "Traceback (most recent call last):\n",
      "  File \"c:\\ProgramData\\miniconda3\\Lib\\threading.py\", line 1075, in _bootstrap_inner\n",
      "    self.run()\n",
      "  File \"c:\\ProgramData\\miniconda3\\Lib\\site-packages\\ipykernel\\ipkernel.py\", line 766, in run_closure\n",
      "    _threading_Thread_run(self)\n",
      "  File \"c:\\ProgramData\\miniconda3\\Lib\\threading.py\", line 1012, in run\n",
      "    self._target(*self._args, **self._kwargs)\n",
      "  File \"C:\\Users\\mrnew\\AppData\\Local\\Temp\\ipykernel_15264\\1715268380.py\", line 64, in processBooking\n",
      "  File \"C:\\Users\\mrnew\\AppData\\Local\\Temp\\ipykernel_15264\\1715268380.py\", line 27, in addBooking\n",
      "TypeError: cannot unpack non-iterable bool object\n"
     ]
    },
    {
     "name": "stdout",
     "output_type": "stream",
     "text": [
      "Processing Flight LH6795 for Client 1 : 4 seats.\n",
      "Client 1 flight checked\n"
     ]
    },
    {
     "name": "stderr",
     "output_type": "stream",
     "text": [
      "Exception in thread Thread-5 (processBooking):\n",
      "Traceback (most recent call last):\n",
      "  File \"c:\\ProgramData\\miniconda3\\Lib\\threading.py\", line 1075, in _bootstrap_inner\n",
      "    self.run()\n",
      "  File \"c:\\ProgramData\\miniconda3\\Lib\\site-packages\\ipykernel\\ipkernel.py\", line 766, in run_closure\n",
      "    _threading_Thread_run(self)\n",
      "  File \"c:\\ProgramData\\miniconda3\\Lib\\threading.py\", line 1012, in run\n",
      "    self._target(*self._args, **self._kwargs)\n",
      "  File \"C:\\Users\\mrnew\\AppData\\Local\\Temp\\ipykernel_15264\\1715268380.py\", line 64, in processBooking\n",
      "  File \"C:\\Users\\mrnew\\AppData\\Local\\Temp\\ipykernel_15264\\1715268380.py\", line 27, in addBooking\n",
      "TypeError: cannot unpack non-iterable bool object\n"
     ]
    },
    {
     "name": "stdout",
     "output_type": "stream",
     "text": [
      "Processing Flight LH6795 for Client 2 : 1 seats.\n",
      "Client 2 flight checked\n"
     ]
    },
    {
     "name": "stderr",
     "output_type": "stream",
     "text": [
      "Exception in thread Thread-6 (processBooking):\n",
      "Traceback (most recent call last):\n",
      "  File \"c:\\ProgramData\\miniconda3\\Lib\\threading.py\", line 1075, in _bootstrap_inner\n",
      "    self.run()\n",
      "  File \"c:\\ProgramData\\miniconda3\\Lib\\site-packages\\ipykernel\\ipkernel.py\", line 766, in run_closure\n",
      "    _threading_Thread_run(self)\n",
      "  File \"c:\\ProgramData\\miniconda3\\Lib\\threading.py\", line 1012, in run\n",
      "    self._target(*self._args, **self._kwargs)\n",
      "  File \"C:\\Users\\mrnew\\AppData\\Local\\Temp\\ipykernel_15264\\1715268380.py\", line 64, in processBooking\n",
      "  File \"C:\\Users\\mrnew\\AppData\\Local\\Temp\\ipykernel_15264\\1715268380.py\", line 27, in addBooking\n",
      "TypeError: cannot unpack non-iterable bool object\n"
     ]
    },
    {
     "name": "stdout",
     "output_type": "stream",
     "text": [
      "Processing Flight LH6795 for Client 3 : 1 seats.\n",
      "Client 3 flight checked\n"
     ]
    },
    {
     "name": "stderr",
     "output_type": "stream",
     "text": [
      "Exception in thread Thread-7 (processBooking):\n",
      "Traceback (most recent call last):\n",
      "  File \"c:\\ProgramData\\miniconda3\\Lib\\threading.py\", line 1075, in _bootstrap_inner\n",
      "    self.run()\n",
      "  File \"c:\\ProgramData\\miniconda3\\Lib\\site-packages\\ipykernel\\ipkernel.py\", line 766, in run_closure\n",
      "    _threading_Thread_run(self)\n",
      "  File \"c:\\ProgramData\\miniconda3\\Lib\\threading.py\", line 1012, in run\n",
      "    self._target(*self._args, **self._kwargs)\n",
      "  File \"C:\\Users\\mrnew\\AppData\\Local\\Temp\\ipykernel_15264\\1715268380.py\", line 64, in processBooking\n",
      "  File \"C:\\Users\\mrnew\\AppData\\Local\\Temp\\ipykernel_15264\\1715268380.py\", line 27, in addBooking\n",
      "TypeError: cannot unpack non-iterable bool object\n"
     ]
    },
    {
     "name": "stdout",
     "output_type": "stream",
     "text": [
      "Processing Flight LH6795 for Client 4 : 1 seats.\n",
      "Client 4 flight checked\n",
      "Finished\n"
     ]
    }
   ],
   "source": [
    "import threading\n",
    "import random\n",
    "import time\n",
    "\n",
    "# Test parameters\n",
    "id_flight=\"LH6795\"\n",
    "base_name=\"Client \"\n",
    "# Clean the db for the test\n",
    "cleanDB(id_flight)\n",
    "# Creating several Thread representing several client that try to book simultaneously a random number of seat\n",
    "jobs=[]\n",
    "for i in range(5):\n",
    "    jobs.append(threading.Thread(target=processBooking,args=(id_flight,base_name+str(i), random.randint(1,4))))\n",
    "# Start each job, giving 3s of delay between each\n",
    "for job in jobs:\n",
    "    job.start()\n",
    "    time.sleep(3)\n",
    "# Wait for all the thread to finish\n",
    "for job in jobs:\n",
    "    job.join()\n",
    "print(\"Finished\")"
   ]
  },
  {
   "cell_type": "code",
   "execution_count": null,
   "metadata": {},
   "outputs": [],
   "source": []
  }
 ],
 "metadata": {
  "kernelspec": {
   "display_name": "Python 3",
   "language": "python",
   "name": "python3"
  },
  "language_info": {
   "codemirror_mode": {
    "name": "ipython",
    "version": 3
   },
   "file_extension": ".py",
   "mimetype": "text/x-python",
   "name": "python",
   "nbconvert_exporter": "python",
   "pygments_lexer": "ipython3",
   "version": "3.12.7"
  }
 },
 "nbformat": 4,
 "nbformat_minor": 2
}
